{
 "cells": [
  {
   "cell_type": "markdown",
   "metadata": {},
   "source": [
    "# Assignment 3"
   ]
  },
  {
   "cell_type": "markdown",
   "metadata": {},
   "source": [
    "In this assigment, we will work with the *Forest Fire* data set. Please download the data from the [UCI Machine Learning Repository](https://archive.ics.uci.edu/dataset/162/forest+fires). Extract the data files into the subdirectory: `../data/fires/` (relative to `./src/`).\n",
    "\n",
    "## Objective\n",
    "\n",
    "+ The model objective is to predict the area affected by forest fires given the features set. \n",
    "+ The objective of this exercise is to assess your ability to construct and evaluate model pipelines.\n",
    "+ Please note: the instructions are not meant to be 100% prescriptive, but instead they are a set of minimum requirements. If you find predictive performance gains by applying additional steps, by all means show them. "
   ]
  },
  {
   "cell_type": "markdown",
   "metadata": {},
   "source": [
    "## Variable Description\n",
    "\n",
    "From the description file contained in the archive (`forestfires.names`), we obtain the following variable descriptions:\n",
    "\n",
    "1. X - x-axis spatial coordinate within the Montesinho park map: 1 to 9\n",
    "2. Y - y-axis spatial coordinate within the Montesinho park map: 2 to 9\n",
    "3. month - month of the year: \"jan\" to \"dec\" \n",
    "4. day - day of the week: \"mon\" to \"sun\"\n",
    "5. FFMC - FFMC index from the FWI system: 18.7 to 96.20\n",
    "6. DMC - DMC index from the FWI system: 1.1 to 291.3 \n",
    "7. DC - DC index from the FWI system: 7.9 to 860.6 \n",
    "8. ISI - ISI index from the FWI system: 0.0 to 56.10\n",
    "9. temp - temperature in Celsius degrees: 2.2 to 33.30\n",
    "10. RH - relative humidity in %: 15.0 to 100\n",
    "11. wind - wind speed in km/h: 0.40 to 9.40 \n",
    "12. rain - outside rain in mm/m2 : 0.0 to 6.4 \n",
    "13. area - the burned area of the forest (in ha): 0.00 to 1090.84 \n",
    "\n",
    "\n",
    "\n"
   ]
  },
  {
   "cell_type": "markdown",
   "metadata": {},
   "source": [
    "\n",
    "\n",
    "\n",
    "\n",
    "### Specific Tasks\n",
    "\n",
    "+ Construct four model pipelines, out of combinations of the following components:\n",
    "\n",
    "    + Preprocessors:\n",
    "\n",
    "        - A simple processor that only scales numeric variables and recodes categorical variables.\n",
    "        - A transformation preprocessor that scales numeric variables and applies a non-linear transformation.\n",
    "    \n",
    "    + Regressor:\n",
    "\n",
    "        - A baseline regressor, which could be a [K-nearest neighbours model]() or a linear model like [Lasso](https://scikit-learn.org/stable/modules/generated/sklearn.linear_model.Lasso.html) or [Ridge Regressors](https://scikit-learn.org/stable/modules/generated/sklearn.linear_model.ridge_regression.html).\n",
    "        - An advanced regressor of your choice (e.g., Bagging, Boosting, SVR, etc.). TIP: select a tree-based method such that it does not take too long to run SHAP further below. \n",
    "\n",
    "+ Evaluate tune and evaluate each of the four model pipelines. \n",
    "\n",
    "    - Select a [performance metric](https://scikit-learn.org/stable/modules/linear_model.html) out of the following options: explained variance, max error, root mean squared error (RMSE), mean absolute error (MAE), r-squared.\n",
    "    - *TIPS*: \n",
    "    \n",
    "        * Out of the suggested metrics above, [some are correlation metrics, but this is a prediction problem](https://www.tmwr.org/performance#performance). Choose wisely (and don't choose the incorrect options.) \n",
    "\n",
    "+ Select the best-performing model and explain its predictions.\n",
    "\n",
    "    - Provide local explanations.\n",
    "    - Obtain global explanations and recommend a variable selection strategy.\n",
    "\n",
    "+ Export your model as a pickle file.\n",
    "\n",
    "\n",
    "You can work on the Jupyter notebook, as this experiment is fairly short (no need to use sacred). "
   ]
  },
  {
   "cell_type": "markdown",
   "metadata": {},
   "source": [
    "# Load the data\n",
    "\n",
    "Place the files in the ../../05_src/data/fires/ directory and load the appropriate file. "
   ]
  },
  {
   "cell_type": "code",
   "execution_count": 25,
   "metadata": {},
   "outputs": [],
   "source": [
    "import pandas as pd"
   ]
  },
  {
   "cell_type": "code",
   "execution_count": 26,
   "metadata": {},
   "outputs": [
    {
     "name": "stdout",
     "output_type": "stream",
     "text": [
      "<class 'pandas.core.frame.DataFrame'>\n",
      "RangeIndex: 517 entries, 0 to 516\n",
      "Data columns (total 13 columns):\n",
      " #   Column   Non-Null Count  Dtype  \n",
      "---  ------   --------------  -----  \n",
      " 0   coord_x  517 non-null    int64  \n",
      " 1   coord_y  517 non-null    int64  \n",
      " 2   month    517 non-null    object \n",
      " 3   day      517 non-null    object \n",
      " 4   ffmc     517 non-null    float64\n",
      " 5   dmc      517 non-null    float64\n",
      " 6   dc       517 non-null    float64\n",
      " 7   isi      517 non-null    float64\n",
      " 8   temp     517 non-null    float64\n",
      " 9   rh       517 non-null    int64  \n",
      " 10  wind     517 non-null    float64\n",
      " 11  rain     517 non-null    float64\n",
      " 12  area     517 non-null    float64\n",
      "dtypes: float64(8), int64(3), object(2)\n",
      "memory usage: 52.6+ KB\n"
     ]
    },
    {
     "data": {
      "text/html": [
       "<div>\n",
       "<style scoped>\n",
       "    .dataframe tbody tr th:only-of-type {\n",
       "        vertical-align: middle;\n",
       "    }\n",
       "\n",
       "    .dataframe tbody tr th {\n",
       "        vertical-align: top;\n",
       "    }\n",
       "\n",
       "    .dataframe thead th {\n",
       "        text-align: right;\n",
       "    }\n",
       "</style>\n",
       "<table border=\"1\" class=\"dataframe\">\n",
       "  <thead>\n",
       "    <tr style=\"text-align: right;\">\n",
       "      <th></th>\n",
       "      <th>coord_x</th>\n",
       "      <th>coord_y</th>\n",
       "      <th>month</th>\n",
       "      <th>day</th>\n",
       "      <th>ffmc</th>\n",
       "      <th>dmc</th>\n",
       "      <th>dc</th>\n",
       "      <th>isi</th>\n",
       "      <th>temp</th>\n",
       "      <th>rh</th>\n",
       "      <th>wind</th>\n",
       "      <th>rain</th>\n",
       "      <th>area</th>\n",
       "    </tr>\n",
       "  </thead>\n",
       "  <tbody>\n",
       "    <tr>\n",
       "      <th>0</th>\n",
       "      <td>7</td>\n",
       "      <td>5</td>\n",
       "      <td>mar</td>\n",
       "      <td>fri</td>\n",
       "      <td>86.2</td>\n",
       "      <td>26.2</td>\n",
       "      <td>94.3</td>\n",
       "      <td>5.1</td>\n",
       "      <td>8.2</td>\n",
       "      <td>51</td>\n",
       "      <td>6.7</td>\n",
       "      <td>0.0</td>\n",
       "      <td>0.0</td>\n",
       "    </tr>\n",
       "    <tr>\n",
       "      <th>1</th>\n",
       "      <td>7</td>\n",
       "      <td>4</td>\n",
       "      <td>oct</td>\n",
       "      <td>tue</td>\n",
       "      <td>90.6</td>\n",
       "      <td>35.4</td>\n",
       "      <td>669.1</td>\n",
       "      <td>6.7</td>\n",
       "      <td>18.0</td>\n",
       "      <td>33</td>\n",
       "      <td>0.9</td>\n",
       "      <td>0.0</td>\n",
       "      <td>0.0</td>\n",
       "    </tr>\n",
       "    <tr>\n",
       "      <th>2</th>\n",
       "      <td>7</td>\n",
       "      <td>4</td>\n",
       "      <td>oct</td>\n",
       "      <td>sat</td>\n",
       "      <td>90.6</td>\n",
       "      <td>43.7</td>\n",
       "      <td>686.9</td>\n",
       "      <td>6.7</td>\n",
       "      <td>14.6</td>\n",
       "      <td>33</td>\n",
       "      <td>1.3</td>\n",
       "      <td>0.0</td>\n",
       "      <td>0.0</td>\n",
       "    </tr>\n",
       "    <tr>\n",
       "      <th>3</th>\n",
       "      <td>8</td>\n",
       "      <td>6</td>\n",
       "      <td>mar</td>\n",
       "      <td>fri</td>\n",
       "      <td>91.7</td>\n",
       "      <td>33.3</td>\n",
       "      <td>77.5</td>\n",
       "      <td>9.0</td>\n",
       "      <td>8.3</td>\n",
       "      <td>97</td>\n",
       "      <td>4.0</td>\n",
       "      <td>0.2</td>\n",
       "      <td>0.0</td>\n",
       "    </tr>\n",
       "    <tr>\n",
       "      <th>4</th>\n",
       "      <td>8</td>\n",
       "      <td>6</td>\n",
       "      <td>mar</td>\n",
       "      <td>sun</td>\n",
       "      <td>89.3</td>\n",
       "      <td>51.3</td>\n",
       "      <td>102.2</td>\n",
       "      <td>9.6</td>\n",
       "      <td>11.4</td>\n",
       "      <td>99</td>\n",
       "      <td>1.8</td>\n",
       "      <td>0.0</td>\n",
       "      <td>0.0</td>\n",
       "    </tr>\n",
       "  </tbody>\n",
       "</table>\n",
       "</div>"
      ],
      "text/plain": [
       "   coord_x  coord_y month  day  ffmc   dmc     dc  isi  temp  rh  wind  rain  \\\n",
       "0        7        5   mar  fri  86.2  26.2   94.3  5.1   8.2  51   6.7   0.0   \n",
       "1        7        4   oct  tue  90.6  35.4  669.1  6.7  18.0  33   0.9   0.0   \n",
       "2        7        4   oct  sat  90.6  43.7  686.9  6.7  14.6  33   1.3   0.0   \n",
       "3        8        6   mar  fri  91.7  33.3   77.5  9.0   8.3  97   4.0   0.2   \n",
       "4        8        6   mar  sun  89.3  51.3  102.2  9.6  11.4  99   1.8   0.0   \n",
       "\n",
       "   area  \n",
       "0   0.0  \n",
       "1   0.0  \n",
       "2   0.0  \n",
       "3   0.0  \n",
       "4   0.0  "
      ]
     },
     "execution_count": 26,
     "metadata": {},
     "output_type": "execute_result"
    }
   ],
   "source": [
    "# Load data\n",
    "columns = [\n",
    "    'coord_x', 'coord_y', 'month', 'day', 'ffmc', 'dmc', 'dc', 'isi', 'temp', 'rh', 'wind', 'rain', 'area' \n",
    "]\n",
    "fires_dt = (pd.read_csv('C:/Users/Test/production/05_src/data/fires/forestfires.csv', header = 0, names = columns))\n",
    "fires_dt.info()\n",
    "\n",
    "# display first few rows\n",
    "fires_dt.head()\n",
    "\n"
   ]
  },
  {
   "cell_type": "markdown",
   "metadata": {},
   "source": [
    "# Get X and Y\n",
    "\n",
    "Create the features data frame and target data."
   ]
  },
  {
   "cell_type": "code",
   "execution_count": 27,
   "metadata": {},
   "outputs": [],
   "source": [
    "# Define features (X) and target (Y)\n",
    "x = fires_dt.drop(columns=['area'])     # <-- drop the target from features\n",
    "y = fires_dt['area']                    # <-- Set the target "
   ]
  },
  {
   "cell_type": "code",
   "execution_count": 28,
   "metadata": {},
   "outputs": [
    {
     "data": {
      "text/plain": [
       "0    0.0\n",
       "1    0.0\n",
       "2    0.0\n",
       "3    0.0\n",
       "4    0.0\n",
       "Name: area, dtype: float64"
      ]
     },
     "execution_count": 28,
     "metadata": {},
     "output_type": "execute_result"
    }
   ],
   "source": [
    "# Display the first few rows of X (features)\n",
    "x.head()\n",
    "\n",
    "# Display the first few rows of y (target)\n",
    "y.head()\n"
   ]
  },
  {
   "cell_type": "markdown",
   "metadata": {},
   "source": [
    "# Preprocessing\n",
    "\n",
    "Create two [Column Transformers](https://scikit-learn.org/stable/modules/generated/sklearn.compose.ColumnTransformer.html), called preproc1 and preproc2, with the following guidelines:\n",
    "\n",
    "- Numerical variables\n",
    "\n",
    "    * (Preproc 1 and 2) Scaling: use a scaling method of your choice (Standard, Robust, Min-Max). \n",
    "    * Preproc 2 only: \n",
    "        \n",
    "        + Choose a transformation for any of your input variables (or several of them). Evaluate if this transformation is convenient.\n",
    "        + The choice of scaler is up to you.\n",
    "\n",
    "- Categorical variables: \n",
    "    \n",
    "    * (Preproc 1 and 2) Apply [one-hot encoding](https://scikit-learn.org/stable/modules/generated/sklearn.preprocessing.OneHotEncoder.html) where appropriate.\n",
    "\n",
    "\n",
    "+ The only difference between preproc1 and preproc2 is the non-linear transformation of the numerical variables.\n",
    "    \n"
   ]
  },
  {
   "cell_type": "markdown",
   "metadata": {},
   "source": [
    "### Preproc 1\n",
    "\n",
    "Create preproc1 below.\n",
    "\n",
    "+ Numeric: scaled variables, no other transforms.\n",
    "+ Categorical: one-hot encoding."
   ]
  },
  {
   "cell_type": "code",
   "execution_count": 29,
   "metadata": {},
   "outputs": [],
   "source": [
    "from sklearn.compose import ColumnTransformer\n",
    "from sklearn.preprocessing import StandardScaler, OneHotEncoder\n",
    "\n",
    "# Define columns\n",
    "num_cols = ['coord_x', 'coord_y', 'ffmc', 'dmc', 'dc', 'isi', 'temp', 'rh', 'wind', 'rain']\n",
    "cat_cols = ['month', 'day'] \n",
    "\n",
    "# Preproc 1 \n",
    "preproc1 = ColumnTransformer(\n",
    "    transformers=[\n",
    "        ('num', StandardScaler(), num_cols),\n",
    "        ('cat', OneHotEncoder(), cat_cols)]) \n"
   ]
  },
  {
   "cell_type": "markdown",
   "metadata": {},
   "source": [
    "### Preproc 2\n",
    "\n",
    "Create preproc1 below.\n",
    "\n",
    "+ Numeric: scaled variables, non-linear transformation to one or more variables.\n",
    "+ Categorical: one-hot encoding."
   ]
  },
  {
   "cell_type": "code",
   "execution_count": 30,
   "metadata": {},
   "outputs": [],
   "source": [
    "from sklearn.compose import ColumnTransformer\n",
    "from sklearn.preprocessing import StandardScaler, OneHotEncoder, FunctionTransformer\n",
    "import numpy as np\n",
    "\n",
    "# Define log transformer for skewed variables \n",
    "log_transformer = FunctionTransformer(np.log1p, validate=True)\n",
    "\n",
    "# Preproc 2\n",
    "preproc2 = ColumnTransformer(\n",
    "    transformers=[\n",
    "        ('num', StandardScaler(), num_cols),             # Standard scaling for num cols\n",
    "        ('log', log_transformer, ['dc', 'isi']),         # Log transformation for skewed cols\n",
    "        ('cat', OneHotEncoder(), cat_cols)])             # One-hot for cat columns\n",
    "\n",
    "\n"
   ]
  },
  {
   "cell_type": "markdown",
   "metadata": {},
   "source": [
    "## Model Pipeline\n",
    "\n",
    "\n",
    "Create a [model pipeline](https://scikit-learn.org/stable/modules/generated/sklearn.pipeline.Pipeline.html): \n",
    "\n",
    "+ Add a step labelled `preprocessing` and assign the Column Transformer from the previous section.\n",
    "+ Add a step labelled `regressor` and assign a regression model to it. \n",
    "\n",
    "## Regressor\n",
    "\n",
    "+ Use a regression model to perform a prediction. \n",
    "\n",
    "    - Choose a baseline regressor, tune it (if necessary) using grid search, and evaluate it using cross-validation.\n",
    "    - Choose a more advance regressor, tune it (if necessary) using grid search, and evaluate it using cross-validation.\n",
    "    - Both model choices are up to you, feel free to experiment."
   ]
  },
  {
   "cell_type": "code",
   "execution_count": 31,
   "metadata": {},
   "outputs": [
    {
     "name": "stdout",
     "output_type": "stream",
     "text": [
      "Pipeline A Pipeline(steps=[('preprocessing',\n",
      "                 ColumnTransformer(transformers=[('num', StandardScaler(),\n",
      "                                                  ['coord_x', 'coord_y', 'ffmc',\n",
      "                                                   'dmc', 'dc', 'isi', 'temp',\n",
      "                                                   'rh', 'wind', 'rain']),\n",
      "                                                 ('cat', OneHotEncoder(),\n",
      "                                                  ['month', 'day'])])),\n",
      "                ('regressor', Ridge())])\n"
     ]
    }
   ],
   "source": [
    "# Pipeline A = preproc1 + baseline\n",
    "\n",
    "from sklearn.pipeline import Pipeline\n",
    "from sklearn.linear_model import Ridge\n",
    "\n",
    "# Define Pipeline A \n",
    "pipeline_A = Pipeline([\n",
    "    ('preprocessing', preproc1),\n",
    "    ('regressor', Ridge())]) \n",
    "\n",
    "# Verify \n",
    "print(\"Pipeline A\", pipeline_A)"
   ]
  },
  {
   "cell_type": "code",
   "execution_count": 32,
   "metadata": {},
   "outputs": [
    {
     "name": "stdout",
     "output_type": "stream",
     "text": [
      "Pipeline B Pipeline(steps=[('preprocessing',\n",
      "                 ColumnTransformer(transformers=[('num', StandardScaler(),\n",
      "                                                  ['coord_x', 'coord_y', 'ffmc',\n",
      "                                                   'dmc', 'dc', 'isi', 'temp',\n",
      "                                                   'rh', 'wind', 'rain']),\n",
      "                                                 ('log',\n",
      "                                                  FunctionTransformer(func=<ufunc 'log1p'>,\n",
      "                                                                      validate=True),\n",
      "                                                  ['dc', 'isi']),\n",
      "                                                 ('cat', OneHotEncoder(),\n",
      "                                                  ['month', 'day'])])),\n",
      "                ('regressor', Ridge())])\n"
     ]
    }
   ],
   "source": [
    "# Pipeline B = preproc2 + baseline\n",
    "# Define Pipeline B \n",
    "pipeline_B = Pipeline([\n",
    "    (\"preprocessing\", preproc2), \n",
    "    ('regressor', Ridge())])\n",
    "\n",
    "# Verify\n",
    "print(\"Pipeline B\", pipeline_B)"
   ]
  },
  {
   "cell_type": "code",
   "execution_count": 33,
   "metadata": {},
   "outputs": [
    {
     "name": "stdout",
     "output_type": "stream",
     "text": [
      "Pipeline C Pipeline(steps=[('preprocessing',\n",
      "                 ColumnTransformer(transformers=[('num', StandardScaler(),\n",
      "                                                  ['coord_x', 'coord_y', 'ffmc',\n",
      "                                                   'dmc', 'dc', 'isi', 'temp',\n",
      "                                                   'rh', 'wind', 'rain']),\n",
      "                                                 ('cat', OneHotEncoder(),\n",
      "                                                  ['month', 'day'])])),\n",
      "                ('regressor', GradientBoostingRegressor())])\n"
     ]
    }
   ],
   "source": [
    "# Pipeline C = preproc1 + advanced model\n",
    "\n",
    "from sklearn.ensemble import GradientBoostingRegressor\n",
    "\n",
    "# Define pipeline C\n",
    "pipeline_C = Pipeline([\n",
    "    ('preprocessing', preproc1),\n",
    "    ('regressor', GradientBoostingRegressor())])\n",
    "\n",
    "# Verify\n",
    "print(\"Pipeline C\", pipeline_C)\n",
    "\n"
   ]
  },
  {
   "cell_type": "code",
   "execution_count": 34,
   "metadata": {},
   "outputs": [
    {
     "name": "stdout",
     "output_type": "stream",
     "text": [
      "Pipeline D Pipeline(steps=[('preprocessing',\n",
      "                 ColumnTransformer(transformers=[('num', StandardScaler(),\n",
      "                                                  ['coord_x', 'coord_y', 'ffmc',\n",
      "                                                   'dmc', 'dc', 'isi', 'temp',\n",
      "                                                   'rh', 'wind', 'rain']),\n",
      "                                                 ('log',\n",
      "                                                  FunctionTransformer(func=<ufunc 'log1p'>,\n",
      "                                                                      validate=True),\n",
      "                                                  ['dc', 'isi']),\n",
      "                                                 ('cat', OneHotEncoder(),\n",
      "                                                  ['month', 'day'])])),\n",
      "                ('regressor', GradientBoostingRegressor())])\n"
     ]
    }
   ],
   "source": [
    "# Pipeline D = preproc2 + advanced model\n",
    "# Define pipeline D\n",
    "pipeline_D = Pipeline([\n",
    "    ('preprocessing', preproc2),\n",
    "    ('regressor', GradientBoostingRegressor())])\n",
    "\n",
    "# Verify\n",
    "print(\"Pipeline D\", pipeline_D)    "
   ]
  },
  {
   "cell_type": "markdown",
   "metadata": {},
   "source": [
    "# Tune Hyperparams\n",
    "\n",
    "+ Perform GridSearch on each of the four pipelines. \n",
    "+ Tune at least one hyperparameter per pipeline.\n",
    "+ Experiment with at least four value combinations per pipeline."
   ]
  },
  {
   "cell_type": "code",
   "execution_count": 51,
   "metadata": {},
   "outputs": [
    {
     "name": "stdout",
     "output_type": "stream",
     "text": [
      "Best score for Pipeline A: -18.78339350340176\n"
     ]
    }
   ],
   "source": [
    "# GridSearchCV for Pipeline A (Preproc1 & Ridge)\n",
    "\n",
    "from sklearn.linear_model import RidgeCV\n",
    "from sklearn.pipeline import Pipeline\n",
    "from sklearn.metrics import mean_absolute_error\n",
    "\n",
    "\n",
    "# Define Pipeline A \n",
    "pipeline_A = Pipeline([\n",
    "    ('preprocessing', preproc1),\n",
    "    ('regressor', RidgeCV(alphas=[0.1, 1.0, 10.0, 100.0]))])  # RidgeCV handles cv \n",
    "\n",
    "\n",
    "# Fit and calculate score\n",
    "pipeline_A.fit(x, y)\n",
    "predictions_A = pipeline_A.predict(x)\n",
    "best_score_A = -mean_absolute_error(y, predictions_A)\n",
    "\n",
    "# Print best alpha \n",
    "print(\"Best score for Pipeline A:\", best_score_A)\n",
    "\n"
   ]
  },
  {
   "cell_type": "code",
   "execution_count": 57,
   "metadata": {},
   "outputs": [
    {
     "name": "stdout",
     "output_type": "stream",
     "text": [
      "Best score for Pipeline B: -18.78358023477188\n"
     ]
    }
   ],
   "source": [
    "# GridSearchCV for Pipeline B (Preproc2 & Ridge)\n",
    "\n",
    "from sklearn.linear_model import RidgeCV\n",
    "from sklearn.pipeline import Pipeline\n",
    "from sklearn.metrics import mean_absolute_error\n",
    "\n",
    "\n",
    "# Define Pipeline B \n",
    "pipeline_B = Pipeline([\n",
    "    ('preprocessing', preproc2),  \n",
    "    ('regressor', RidgeCV(alphas=[0.1, 1.0, 10.0, 100.0]))])  # RidgeCV handles cv\n",
    "\n",
    "# Fit \n",
    "pipeline_B.fit(x, y)\n",
    "predictions_B = pipeline_B.predict(x)\n",
    "best_score_B = -mean_absolute_error(y, predictions_B)\n",
    "\n",
    "# Print the best alpha\n",
    "print(\"Best score for Pipeline B:\", best_score_B)\n",
    "\n"
   ]
  },
  {
   "cell_type": "code",
   "execution_count": 58,
   "metadata": {},
   "outputs": [
    {
     "name": "stdout",
     "output_type": "stream",
     "text": [
      "Best parameters for Pipeline C: {'regressor__n_estimators': 50}\n",
      "Best score for Pipeline C: -71.5303290219505\n"
     ]
    }
   ],
   "source": [
    "# GridSearchCV for Pipeline C (Preproc1 & RobustScaler)\n",
    "\n",
    "from sklearn.preprocessing import RobustScaler\n",
    "from sklearn.model_selection import GridSearchCV\n",
    "\n",
    "# Update preproc1 to use RobustScaler & OneHotEncoder \n",
    "preproc1 = ColumnTransformer(\n",
    "    transformers=[\n",
    "        ('num', RobustScaler(), num_cols),\n",
    "        ('cat', OneHotEncoder(handle_unknown='ignore'), cat_cols)])\n",
    "\n",
    "# Re-define Pipeline C with update\n",
    "pipeline_C = Pipeline([\n",
    "    ('preprocessing', preproc1),\n",
    "    ('regressor', GradientBoostingRegressor())])\n",
    "\n",
    "# Run GridSearchCV \n",
    "param_grid_C = {\n",
    "    'regressor__n_estimators': [50, 100, 150, 200]\n",
    "}\n",
    "grid_C = GridSearchCV(pipeline_C, param_grid_C, cv=5, scoring='neg_root_mean_squared_error')\n",
    "grid_C.fit(x, y)\n",
    "\n",
    "# Print best parameters and score \n",
    "print(\"Best parameters for Pipeline C:\", grid_C.best_params_)\n",
    "print(\"Best score for Pipeline C:\", grid_C.best_score_)\n",
    "\n",
    "\n"
   ]
  },
  {
   "cell_type": "code",
   "execution_count": 59,
   "metadata": {},
   "outputs": [
    {
     "name": "stdout",
     "output_type": "stream",
     "text": [
      "Best parameters for Pipeline D: {'regressor__n_estimators': 50}\n",
      "Best score for Pipeline D: -70.59623484453202\n"
     ]
    }
   ],
   "source": [
    "# GridSearchCV for Pipeline D (Preproc2 & GradientBoostingRegressor)\n",
    "\n",
    "# Define to handle unknowns \n",
    "preproc2 = ColumnTransformer(\n",
    "    transformers=[\n",
    "        ('num', RobustScaler(), num_cols),\n",
    "        ('log', FunctionTransformer(np.log1p, validate=True), ['dc', 'isi']), \n",
    "        ('cat', OneHotEncoder(handle_unknown='ignore'), cat_cols)  \n",
    "    ]\n",
    ")\n",
    "\n",
    "# Define Pipeline D \n",
    "pipeline_D = Pipeline([\n",
    "    ('preprocessing', preproc2),\n",
    "    ('regressor', GradientBoostingRegressor())\n",
    "])\n",
    "\n",
    "\n",
    "# Define the parameter grid for Pipeline D\n",
    "param_grid_D = {\n",
    "    'regressor__n_estimators': [50, 100, 150, 200]\n",
    "}\n",
    "\n",
    "# Set up GridSearchCV for Pipeline D\n",
    "grid_D = GridSearchCV(pipeline_D, param_grid_D, cv=5, scoring='neg_root_mean_squared_error')\n",
    "grid_D.fit(x, y)\n",
    "\n",
    "# Print best parameters and score for Pipeline D\n",
    "print(\"Best parameters for Pipeline D:\", grid_D.best_params_)\n",
    "print(\"Best score for Pipeline D:\", grid_D.best_score_)\n"
   ]
  },
  {
   "cell_type": "code",
   "execution_count": 60,
   "metadata": {},
   "outputs": [
    {
     "name": "stdout",
     "output_type": "stream",
     "text": [
      "Best-performing pipeline: Pipeline A\n",
      "Best score: -18.78339350340176\n"
     ]
    }
   ],
   "source": [
    "# Consolidate & compare Best Scores\n",
    "\n",
    "# Consolidate the best scores and parameters for each pipeline\n",
    "best_scores = {\n",
    "    \"Pipeline A\": best_score_A,\n",
    "    \"Pipeline B\": best_score_B,\n",
    "    \"Pipeline C\": grid_C.best_score_,\n",
    "    \"Pipeline D\": grid_D.best_score_}\n",
    "\n",
    "# Print the best-performing pipeline and the score \n",
    "best_pipeline = max(best_scores, key=best_scores.get)\n",
    "print(\"Best-performing pipeline:\", best_pipeline)\n",
    "print(\"Best score:\", best_scores[best_pipeline])\n"
   ]
  },
  {
   "cell_type": "markdown",
   "metadata": {},
   "source": [
    "# Evaluate\n",
    "\n",
    "+ Pipeline A performed best for a couple reasons.  \n",
    "    - The was a simple data set. Simple models can outperform advanced models when using data sets that are not complex.\n",
    "    - Ridge Regression manages bias and variances well and this data set complimented the model enabling it to achieve the lowest MAE. \n"
   ]
  },
  {
   "cell_type": "markdown",
   "metadata": {},
   "source": [
    "# Export\n",
    "\n",
    "+ Save the best performing model to a pickle file."
   ]
  },
  {
   "cell_type": "code",
   "execution_count": 61,
   "metadata": {},
   "outputs": [
    {
     "name": "stdout",
     "output_type": "stream",
     "text": [
      "Best model saved as 'best_forest_fire_model_pipeline_A.pkl\n"
     ]
    }
   ],
   "source": [
    "import joblib\n",
    "\n",
    "# Save Pipeline A as pickle file\n",
    "joblib.dump(pipeline_A, 'best_forest_fire_model_pipeline_A.pkl')\n",
    "print(\"Best model saved as 'best_forest_fire_model_pipeline_A.pkl\")"
   ]
  },
  {
   "cell_type": "markdown",
   "metadata": {},
   "source": [
    "# Explain\n",
    "\n",
    "+ Use SHAP values to explain the following only for the best-performing model:\n",
    "\n",
    "    - Select an observation in your test set and explain which are the most important features that explain that observation's specific prediction.\n",
    "\n",
    "    - In general, across the complete training set, which features are the most and least important.\n",
    "\n",
    "+ If you were to remove features from the model, which ones would you remove? Why? How would you test that these features are actually enhancing model performance?"
   ]
  },
  {
   "cell_type": "code",
   "execution_count": 67,
   "metadata": {},
   "outputs": [
    {
     "data": {
      "image/png": "[encoded data removed]",
      "text/plain": [
       "<Figure size 800x950 with 2 Axes>"
      ]
     },
     "metadata": {},
     "output_type": "display_data"
    },
    {
     "data": {
      "text/html": [
       "\n",
       "<div id='iOKTHLH2PLFUJZCUNUNDE'>\n",
       "<div style='color: #900; text-align: center;'>\n",
       "  <b>Visualization omitted, Javascript library not loaded!</b><br>\n",
       "  Have you run `initjs()` in this notebook? If this notebook was from another\n",
       "  user you must also trust this notebook (File -> Trust notebook). If you are viewing\n",
       "  this notebook on github the Javascript has been stripped for security. If you are using\n",
       "  JupyterLab this error is because a JupyterLab extension has not yet been written.\n",
       "</div></div>\n",
       " <script>\n",
       "   if (window.SHAP) SHAP.ReactDom.render(\n",
       "    SHAP.React.createElement(SHAP.AdditiveForceVisualizer, {\"outNames\": [\"f(x)\"], \"baseValue\": 13.190672694773173, \"outValue\": 4.442373908954938, \"link\": \"identity\", \"featureNames\": [\"num__coord_x\", \"num__coord_y\", \"num__ffmc\", \"num__dmc\", \"num__dc\", \"num__isi\", \"num__temp\", \"num__rh\", \"num__wind\", \"num__rain\", \"cat__month_apr\", \"cat__month_aug\", \"cat__month_dec\", \"cat__month_feb\", \"cat__month_jan\", \"cat__month_jul\", \"cat__month_jun\", \"cat__month_mar\", \"cat__month_may\", \"cat__month_nov\", \"cat__month_oct\", \"cat__month_sep\", \"cat__day_fri\", \"cat__day_mon\", \"cat__day_sat\", \"cat__day_sun\", \"cat__day_thu\", \"cat__day_tue\", \"cat__day_wed\"], \"features\": {\"0\": {\"effect\": 2.078657313655128, \"value\": 0.75}, \"1\": {\"effect\": 0.8820095960124574, \"value\": 1.0}, \"2\": {\"effect\": -0.21348004760996167, \"value\": -1.9999999999999947}, \"3\": {\"effect\": -4.569138085606001, \"value\": -1.1124661246612464}, \"4\": {\"effect\": 1.5695494778771844, \"value\": -2.0633598841419265}, \"5\": {\"effect\": 1.3238309402750508, \"value\": -0.7674418604651163}, \"6\": {\"effect\": -6.4859247156371, \"value\": -1.5205479452054795}, \"7\": {\"effect\": -0.9665190731308505, \"value\": 0.45}, \"8\": {\"effect\": 3.2482732970826245, \"value\": 1.2272727272727273}, \"9\": {\"effect\": 0.012180117354016279, \"value\": 0.0}, \"10\": {\"effect\": -0.0016519934354575505, \"value\": 0.0}, \"11\": {\"effect\": 0.6282717316402073, \"value\": 0.0}, \"12\": {\"effect\": -0.005422016448353349, \"value\": 0.0}, \"13\": {\"effect\": -0.04114347864052291, \"value\": 0.0}, \"15\": {\"effect\": 0.01790300090374609, \"value\": 0.0}, \"16\": {\"effect\": 0.036157802319551534, \"value\": 0.0}, \"17\": {\"effect\": -1.5265910430709497, \"value\": 1.0}, \"20\": {\"effect\": 0.012082848522196956, \"value\": 0.0}, \"21\": {\"effect\": -1.485205221186976, \"value\": 0.0}, \"22\": {\"effect\": -2.6999435543918193, \"value\": 1.0}, \"23\": {\"effect\": 0.10014024020345198, \"value\": 0.0}, \"24\": {\"effect\": -0.9642762166605219, \"value\": 0.0}, \"25\": {\"effect\": 0.1987510775483701, \"value\": 0.0}, \"26\": {\"effect\": -0.04487629922285958, \"value\": 0.0}, \"27\": {\"effect\": -0.0050775262740243845, \"value\": 0.0}, \"28\": {\"effect\": 0.15314304210317747, \"value\": 0.0}}, \"plot_cmap\": \"RdBu\", \"labelMargin\": 20}),\n",
       "    document.getElementById('iOKTHLH2PLFUJZCUNUNDE')\n",
       "  );\n",
       "</script>"
      ],
      "text/plain": [
       "<shap.plots._force.AdditiveForceVisualizer at 0x1f1da215eb0>"
      ]
     },
     "execution_count": 67,
     "metadata": {},
     "output_type": "execute_result"
    }
   ],
   "source": [
    "import shap\n",
    "\n",
    "\n",
    "# Transform X for alignment \n",
    "x_transformed = pipeline_A['preprocessing'].transform(x)\n",
    "\n",
    "# Retrieve feature names after transformation \n",
    "feature_names = pipeline_A['preprocessing'].get_feature_names_out()\n",
    "\n",
    "# Set up SHAP explainer\n",
    "explainer = shap.LinearExplainer(pipeline_A['regressor'], x_transformed)\n",
    "shap_values = explainer.shap_values(x_transformed)\n",
    "\n",
    "# Plot summary\n",
    "shap.summary_plot(shap_values, x_transformed, feature_names=feature_names)\n",
    "\n",
    "# --- Single observation view ---\n",
    "\n",
    "# Select an observation index (e.g., the first observation) to explain a specific prediction\n",
    "observation_index = 0  \n",
    "\n",
    "# Generate the SHAP force plot for this specific observation\n",
    "shap.force_plot(\n",
    "    explainer.expected_value,\n",
    "    shap_values[observation_index, :],\n",
    "    x_transformed[observation_index, :],\n",
    "    feature_names=feature_names\n",
    ")\n",
    "\n",
    "\n"
   ]
  },
  {
   "cell_type": "markdown",
   "metadata": {},
   "source": [
    "Question 1: \n",
    "\n",
    "This single observation is the model's baseline prediction. Red indicates increased prediction rates. Whereas blue indicates lower prediction rates.\n",
    "\n",
    "The top 2 important features in this observation are 1 and 2. As seen in red, these have a strong positive impact on the prediction rate. Conversely, 3 and 4, are also significant features. With the most negative impact (blue) on the prediction rate. \n",
    "\n",
    "It's the balance of these 4 features that provide the most accuracy on this particular observation.\n",
    "\n",
    "\n",
    "Question 2: \n",
    "\n",
    "The higher up on this model, the more it increases and impacts prediction positevely.  When interpreting, we would rely more on the features at the top. \n",
    "\n",
    "The features listed toward the bottom, have negative or little impact on prediction.  The blue features at the bottom may possibly even be removed considering their low impact on the prediction and we needed to simply the model more.\n",
    "\n",
    "\n"
   ]
  },
  {
   "cell_type": "markdown",
   "metadata": {},
   "source": [
    "## Criteria\n",
    "\n",
    "The [rubric](./assignment_3_rubric_clean.xlsx) contains the criteria for assessment."
   ]
  },
  {
   "cell_type": "markdown",
   "metadata": {},
   "source": [
    "## Submission Information\n",
    "\n",
    "🚨 **Please review our [Assignment Submission Guide](https://github.com/UofT-DSI/onboarding/blob/main/onboarding_documents/submissions.md)** 🚨 for detailed instructions on how to format, branch, and submit your work. Following these guidelines is crucial for your submissions to be evaluated correctly.\n",
    "\n",
    "### Submission Parameters:\n",
    "* Submission Due Date: `HH:MM AM/PM - DD/MM/YYYY`\n",
    "* The branch name for your repo should be: `assignment-3`\n",
    "* What to submit for this assignment:\n",
    "    * This Jupyter Notebook (assignment_3.ipynb) should be populated and should be the only change in your pull request.\n",
    "* What the pull request link should look like for this assignment: `https://github.com/<your_github_username>/production/pull/<pr_id>`\n",
    "    * Open a private window in your browser. Copy and paste the link to your pull request into the address bar. Make sure you can see your pull request properly. This helps the technical facilitator and learning support staff review your submission easily.\n",
    "\n",
    "Checklist:\n",
    "- [ ] Created a branch with the correct naming convention.\n",
    "- [ ] Ensured that the repository is public.\n",
    "- [ ] Reviewed the PR description guidelines and adhered to them.\n",
    "- [ ] Verify that the link is accessible in a private browser window.\n",
    "\n",
    "If you encounter any difficulties or have questions, please don't hesitate to reach out to our team via our Slack at `#cohort-3-help`. Our Technical Facilitators and Learning Support staff are here to help you navigate any challenges."
   ]
  },
  {
   "cell_type": "markdown",
   "metadata": {},
   "source": [
    "# Reference\n",
    "\n",
    "Cortez,Paulo and Morais,Anbal. (2008). Forest Fires. UCI Machine Learning Repository. https://doi.org/10.24432/C5D88D."
   ]
  }
 ],
 "metadata": {
  "kernelspec": {
   "display_name": "dsi_participant",
   "language": "python",
   "name": "python3"
  },
  "language_info": {
   "codemirror_mode": {
    "name": "ipython",
    "version": 3
   },
   "file_extension": ".py",
   "mimetype": "text/x-python",
   "name": "python",
   "nbconvert_exporter": "python",
   "pygments_lexer": "ipython3",
   "version": "3.9.15"
  }
 },
 "nbformat": 4,
 "nbformat_minor": 2
}
